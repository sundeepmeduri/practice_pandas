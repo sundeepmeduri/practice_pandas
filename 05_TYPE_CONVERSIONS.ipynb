{
 "cells": [
  {
   "cell_type": "markdown",
   "id": "b48a0e3d-2716-4ca4-a158-4b96d8804ad0",
   "metadata": {},
   "source": [
    "# astype(int)            "
   ]
  },
  {
   "cell_type": "code",
   "execution_count": 37,
   "id": "22a5a268-b83a-46a5-9211-6b7404883cab",
   "metadata": {},
   "outputs": [],
   "source": [
    "import pandas as pd\n",
    "import numpy as np\n",
    "\n",
    "# Sample DataFrame with object columns\n",
    "df = pd.DataFrame({'A': ['1', '2', '3'],\n",
    "                   'B': ['1.1', '2.2', '3.3'],\n",
    "                   'C': ['2022-01-01', '2022-01-02', '2022-01-03'],\n",
    "                   'D': ['foo', 'bar', 'baz']})\n"
   ]
  },
  {
   "cell_type": "code",
   "execution_count": 38,
   "id": "cd0bba22-5890-4915-af73-1851f67d37cf",
   "metadata": {},
   "outputs": [
    {
     "name": "stdout",
     "output_type": "stream",
     "text": [
      "<class 'pandas.core.frame.DataFrame'>\n",
      "RangeIndex: 3 entries, 0 to 2\n",
      "Data columns (total 4 columns):\n",
      " #   Column  Non-Null Count  Dtype \n",
      "---  ------  --------------  ----- \n",
      " 0   A       3 non-null      object\n",
      " 1   B       3 non-null      object\n",
      " 2   C       3 non-null      object\n",
      " 3   D       3 non-null      object\n",
      "dtypes: object(4)\n",
      "memory usage: 228.0+ bytes\n"
     ]
    }
   ],
   "source": [
    "df.info()"
   ]
  },
  {
   "cell_type": "code",
   "execution_count": 39,
   "id": "b3ed772d-49ce-4838-912a-6df56c24b569",
   "metadata": {},
   "outputs": [],
   "source": [
    "df = df.astype({'A': 'int','B': 'float','C': 'datetime64[ns]'})\n"
   ]
  },
  {
   "cell_type": "code",
   "execution_count": 40,
   "id": "1b33e600-22a6-41a0-8988-a3c6f0a15d43",
   "metadata": {},
   "outputs": [
    {
     "name": "stdout",
     "output_type": "stream",
     "text": [
      "<class 'pandas.core.frame.DataFrame'>\n",
      "RangeIndex: 3 entries, 0 to 2\n",
      "Data columns (total 4 columns):\n",
      " #   Column  Non-Null Count  Dtype         \n",
      "---  ------  --------------  -----         \n",
      " 0   A       3 non-null      int32         \n",
      " 1   B       3 non-null      float64       \n",
      " 2   C       3 non-null      datetime64[ns]\n",
      " 3   D       3 non-null      object        \n",
      "dtypes: datetime64[ns](1), float64(1), int32(1), object(1)\n",
      "memory usage: 216.0+ bytes\n"
     ]
    }
   ],
   "source": [
    "df.info()"
   ]
  },
  {
   "cell_type": "code",
   "execution_count": null,
   "id": "a645bf29-2c1d-4b8d-bd17-2cabfc11e9e1",
   "metadata": {},
   "outputs": [],
   "source": []
  },
  {
   "cell_type": "markdown",
   "id": "08a5479e-95eb-4587-917a-c313edd95ba4",
   "metadata": {},
   "source": [
    "# pd.to_numeric()  \n",
    "# pd.to_datetime()    \n",
    "# pd.to_datetime()"
   ]
  },
  {
   "cell_type": "code",
   "execution_count": 84,
   "id": "64412403-def8-431e-ac83-64e9184920e8",
   "metadata": {},
   "outputs": [],
   "source": [
    "df2 = pd.DataFrame({'A': ['1', '2', None],\n",
    "                   'B': ['1.1', '2.2', np.nan],\n",
    "                   'C': ['2022-01-01', '2022-01-02', ''],\n",
    "                   'D': ['foo', 'bar', 'baz']})\n"
   ]
  },
  {
   "cell_type": "code",
   "execution_count": 85,
   "id": "5c5919c5-6edf-471e-a995-8a6ef7a56e28",
   "metadata": {},
   "outputs": [
    {
     "name": "stdout",
     "output_type": "stream",
     "text": [
      "<class 'pandas.core.frame.DataFrame'>\n",
      "RangeIndex: 3 entries, 0 to 2\n",
      "Data columns (total 4 columns):\n",
      " #   Column  Non-Null Count  Dtype \n",
      "---  ------  --------------  ----- \n",
      " 0   A       2 non-null      object\n",
      " 1   B       2 non-null      object\n",
      " 2   C       3 non-null      object\n",
      " 3   D       3 non-null      object\n",
      "dtypes: object(4)\n",
      "memory usage: 228.0+ bytes\n"
     ]
    }
   ],
   "source": [
    "df2.info()"
   ]
  },
  {
   "cell_type": "code",
   "execution_count": 86,
   "id": "9debca50-e260-4e17-a53f-04444fad01a1",
   "metadata": {},
   "outputs": [],
   "source": [
    "# convert to ineteger. to_numeric default converst to float if we need to convert to ineteger we need to convert None, NaN to zero's\n",
    "# df2 = df2.astype({'A': 'int'})\n",
    "df2['A'] = pd.to_numeric(df2['A'])"
   ]
  },
  {
   "cell_type": "code",
   "execution_count": 87,
   "id": "27c21452-b531-4beb-ab43-f89617a36dbe",
   "metadata": {},
   "outputs": [
    {
     "name": "stdout",
     "output_type": "stream",
     "text": [
      "<class 'pandas.core.frame.DataFrame'>\n",
      "RangeIndex: 3 entries, 0 to 2\n",
      "Data columns (total 4 columns):\n",
      " #   Column  Non-Null Count  Dtype  \n",
      "---  ------  --------------  -----  \n",
      " 0   A       2 non-null      float64\n",
      " 1   B       2 non-null      object \n",
      " 2   C       3 non-null      object \n",
      " 3   D       3 non-null      object \n",
      "dtypes: float64(1), object(3)\n",
      "memory usage: 228.0+ bytes\n"
     ]
    }
   ],
   "source": [
    "df2.info()"
   ]
  },
  {
   "cell_type": "code",
   "execution_count": 88,
   "id": "6d0d9620-0494-4649-9094-ce177d8d6ae1",
   "metadata": {},
   "outputs": [
    {
     "data": {
      "text/html": [
       "<div>\n",
       "<style scoped>\n",
       "    .dataframe tbody tr th:only-of-type {\n",
       "        vertical-align: middle;\n",
       "    }\n",
       "\n",
       "    .dataframe tbody tr th {\n",
       "        vertical-align: top;\n",
       "    }\n",
       "\n",
       "    .dataframe thead th {\n",
       "        text-align: right;\n",
       "    }\n",
       "</style>\n",
       "<table border=\"1\" class=\"dataframe\">\n",
       "  <thead>\n",
       "    <tr style=\"text-align: right;\">\n",
       "      <th></th>\n",
       "      <th>A</th>\n",
       "      <th>B</th>\n",
       "      <th>C</th>\n",
       "      <th>D</th>\n",
       "    </tr>\n",
       "  </thead>\n",
       "  <tbody>\n",
       "    <tr>\n",
       "      <th>0</th>\n",
       "      <td>1.0</td>\n",
       "      <td>1.1</td>\n",
       "      <td>2022-01-01</td>\n",
       "      <td>foo</td>\n",
       "    </tr>\n",
       "    <tr>\n",
       "      <th>1</th>\n",
       "      <td>2.0</td>\n",
       "      <td>2.2</td>\n",
       "      <td>2022-01-02</td>\n",
       "      <td>bar</td>\n",
       "    </tr>\n",
       "    <tr>\n",
       "      <th>2</th>\n",
       "      <td>NaN</td>\n",
       "      <td>NaN</td>\n",
       "      <td></td>\n",
       "      <td>baz</td>\n",
       "    </tr>\n",
       "  </tbody>\n",
       "</table>\n",
       "</div>"
      ],
      "text/plain": [
       "     A    B           C    D\n",
       "0  1.0  1.1  2022-01-01  foo\n",
       "1  2.0  2.2  2022-01-02  bar\n",
       "2  NaN  NaN              baz"
      ]
     },
     "execution_count": 88,
     "metadata": {},
     "output_type": "execute_result"
    }
   ],
   "source": [
    "df2"
   ]
  },
  {
   "cell_type": "code",
   "execution_count": 89,
   "id": "fecfcf16-cd4c-4fa0-b249-06bcfeda0d00",
   "metadata": {},
   "outputs": [],
   "source": [
    "df2['A'] = df2['A'].fillna(0).astype(int)"
   ]
  },
  {
   "cell_type": "code",
   "execution_count": 90,
   "id": "f5eae4bf-3baa-4794-8705-8558c40c22b9",
   "metadata": {},
   "outputs": [
    {
     "data": {
      "text/html": [
       "<div>\n",
       "<style scoped>\n",
       "    .dataframe tbody tr th:only-of-type {\n",
       "        vertical-align: middle;\n",
       "    }\n",
       "\n",
       "    .dataframe tbody tr th {\n",
       "        vertical-align: top;\n",
       "    }\n",
       "\n",
       "    .dataframe thead th {\n",
       "        text-align: right;\n",
       "    }\n",
       "</style>\n",
       "<table border=\"1\" class=\"dataframe\">\n",
       "  <thead>\n",
       "    <tr style=\"text-align: right;\">\n",
       "      <th></th>\n",
       "      <th>A</th>\n",
       "      <th>B</th>\n",
       "      <th>C</th>\n",
       "      <th>D</th>\n",
       "    </tr>\n",
       "  </thead>\n",
       "  <tbody>\n",
       "    <tr>\n",
       "      <th>0</th>\n",
       "      <td>1</td>\n",
       "      <td>1.1</td>\n",
       "      <td>2022-01-01</td>\n",
       "      <td>foo</td>\n",
       "    </tr>\n",
       "    <tr>\n",
       "      <th>1</th>\n",
       "      <td>2</td>\n",
       "      <td>2.2</td>\n",
       "      <td>2022-01-02</td>\n",
       "      <td>bar</td>\n",
       "    </tr>\n",
       "    <tr>\n",
       "      <th>2</th>\n",
       "      <td>0</td>\n",
       "      <td>NaN</td>\n",
       "      <td></td>\n",
       "      <td>baz</td>\n",
       "    </tr>\n",
       "  </tbody>\n",
       "</table>\n",
       "</div>"
      ],
      "text/plain": [
       "   A    B           C    D\n",
       "0  1  1.1  2022-01-01  foo\n",
       "1  2  2.2  2022-01-02  bar\n",
       "2  0  NaN              baz"
      ]
     },
     "execution_count": 90,
     "metadata": {},
     "output_type": "execute_result"
    }
   ],
   "source": [
    "df2"
   ]
  },
  {
   "cell_type": "code",
   "execution_count": 91,
   "id": "f014f97d-afb8-40c2-bb7e-3417ae749784",
   "metadata": {},
   "outputs": [
    {
     "name": "stdout",
     "output_type": "stream",
     "text": [
      "<class 'pandas.core.frame.DataFrame'>\n",
      "RangeIndex: 3 entries, 0 to 2\n",
      "Data columns (total 4 columns):\n",
      " #   Column  Non-Null Count  Dtype \n",
      "---  ------  --------------  ----- \n",
      " 0   A       3 non-null      int32 \n",
      " 1   B       2 non-null      object\n",
      " 2   C       3 non-null      object\n",
      " 3   D       3 non-null      object\n",
      "dtypes: int32(1), object(3)\n",
      "memory usage: 216.0+ bytes\n"
     ]
    }
   ],
   "source": [
    "df2.info()"
   ]
  },
  {
   "cell_type": "code",
   "execution_count": 92,
   "id": "ee47e607-9c06-4a45-a330-ae508647dd50",
   "metadata": {},
   "outputs": [],
   "source": [
    "df2['B'] = pd.to_numeric(df2['B'])"
   ]
  },
  {
   "cell_type": "code",
   "execution_count": 93,
   "id": "c7e98967-e320-4118-94e2-2b99c93bd843",
   "metadata": {},
   "outputs": [
    {
     "name": "stdout",
     "output_type": "stream",
     "text": [
      "<class 'pandas.core.frame.DataFrame'>\n",
      "RangeIndex: 3 entries, 0 to 2\n",
      "Data columns (total 4 columns):\n",
      " #   Column  Non-Null Count  Dtype  \n",
      "---  ------  --------------  -----  \n",
      " 0   A       3 non-null      int32  \n",
      " 1   B       2 non-null      float64\n",
      " 2   C       3 non-null      object \n",
      " 3   D       3 non-null      object \n",
      "dtypes: float64(1), int32(1), object(2)\n",
      "memory usage: 216.0+ bytes\n"
     ]
    }
   ],
   "source": [
    "df2.info()"
   ]
  },
  {
   "cell_type": "code",
   "execution_count": 94,
   "id": "45d2f002-98c1-4a5a-bcca-6142d2d2f384",
   "metadata": {},
   "outputs": [
    {
     "data": {
      "text/html": [
       "<div>\n",
       "<style scoped>\n",
       "    .dataframe tbody tr th:only-of-type {\n",
       "        vertical-align: middle;\n",
       "    }\n",
       "\n",
       "    .dataframe tbody tr th {\n",
       "        vertical-align: top;\n",
       "    }\n",
       "\n",
       "    .dataframe thead th {\n",
       "        text-align: right;\n",
       "    }\n",
       "</style>\n",
       "<table border=\"1\" class=\"dataframe\">\n",
       "  <thead>\n",
       "    <tr style=\"text-align: right;\">\n",
       "      <th></th>\n",
       "      <th>A</th>\n",
       "      <th>B</th>\n",
       "      <th>C</th>\n",
       "      <th>D</th>\n",
       "    </tr>\n",
       "  </thead>\n",
       "  <tbody>\n",
       "    <tr>\n",
       "      <th>0</th>\n",
       "      <td>1</td>\n",
       "      <td>1.1</td>\n",
       "      <td>2022-01-01</td>\n",
       "      <td>foo</td>\n",
       "    </tr>\n",
       "    <tr>\n",
       "      <th>1</th>\n",
       "      <td>2</td>\n",
       "      <td>2.2</td>\n",
       "      <td>2022-01-02</td>\n",
       "      <td>bar</td>\n",
       "    </tr>\n",
       "    <tr>\n",
       "      <th>2</th>\n",
       "      <td>0</td>\n",
       "      <td>NaN</td>\n",
       "      <td></td>\n",
       "      <td>baz</td>\n",
       "    </tr>\n",
       "  </tbody>\n",
       "</table>\n",
       "</div>"
      ],
      "text/plain": [
       "   A    B           C    D\n",
       "0  1  1.1  2022-01-01  foo\n",
       "1  2  2.2  2022-01-02  bar\n",
       "2  0  NaN              baz"
      ]
     },
     "execution_count": 94,
     "metadata": {},
     "output_type": "execute_result"
    }
   ],
   "source": [
    "df2"
   ]
  },
  {
   "cell_type": "code",
   "execution_count": 95,
   "id": "910f371a-c15a-4819-a788-ddc50948ce09",
   "metadata": {},
   "outputs": [],
   "source": [
    "df2['C'] = pd.to_datetime(df2['C'])"
   ]
  },
  {
   "cell_type": "code",
   "execution_count": 96,
   "id": "7f7bcd7e-3d97-46b5-a49a-fdd46e2b0213",
   "metadata": {},
   "outputs": [
    {
     "name": "stdout",
     "output_type": "stream",
     "text": [
      "<class 'pandas.core.frame.DataFrame'>\n",
      "RangeIndex: 3 entries, 0 to 2\n",
      "Data columns (total 4 columns):\n",
      " #   Column  Non-Null Count  Dtype         \n",
      "---  ------  --------------  -----         \n",
      " 0   A       3 non-null      int32         \n",
      " 1   B       2 non-null      float64       \n",
      " 2   C       2 non-null      datetime64[ns]\n",
      " 3   D       3 non-null      object        \n",
      "dtypes: datetime64[ns](1), float64(1), int32(1), object(1)\n",
      "memory usage: 216.0+ bytes\n"
     ]
    }
   ],
   "source": [
    "df2.info()"
   ]
  },
  {
   "cell_type": "code",
   "execution_count": 97,
   "id": "5995f420-1081-4e9a-a1ca-2ba41e08336c",
   "metadata": {},
   "outputs": [
    {
     "data": {
      "text/html": [
       "<div>\n",
       "<style scoped>\n",
       "    .dataframe tbody tr th:only-of-type {\n",
       "        vertical-align: middle;\n",
       "    }\n",
       "\n",
       "    .dataframe tbody tr th {\n",
       "        vertical-align: top;\n",
       "    }\n",
       "\n",
       "    .dataframe thead th {\n",
       "        text-align: right;\n",
       "    }\n",
       "</style>\n",
       "<table border=\"1\" class=\"dataframe\">\n",
       "  <thead>\n",
       "    <tr style=\"text-align: right;\">\n",
       "      <th></th>\n",
       "      <th>A</th>\n",
       "      <th>B</th>\n",
       "      <th>C</th>\n",
       "      <th>D</th>\n",
       "    </tr>\n",
       "  </thead>\n",
       "  <tbody>\n",
       "    <tr>\n",
       "      <th>0</th>\n",
       "      <td>1</td>\n",
       "      <td>1.1</td>\n",
       "      <td>2022-01-01</td>\n",
       "      <td>foo</td>\n",
       "    </tr>\n",
       "    <tr>\n",
       "      <th>1</th>\n",
       "      <td>2</td>\n",
       "      <td>2.2</td>\n",
       "      <td>2022-01-02</td>\n",
       "      <td>bar</td>\n",
       "    </tr>\n",
       "    <tr>\n",
       "      <th>2</th>\n",
       "      <td>0</td>\n",
       "      <td>NaN</td>\n",
       "      <td>NaT</td>\n",
       "      <td>baz</td>\n",
       "    </tr>\n",
       "  </tbody>\n",
       "</table>\n",
       "</div>"
      ],
      "text/plain": [
       "   A    B          C    D\n",
       "0  1  1.1 2022-01-01  foo\n",
       "1  2  2.2 2022-01-02  bar\n",
       "2  0  NaN        NaT  baz"
      ]
     },
     "execution_count": 97,
     "metadata": {},
     "output_type": "execute_result"
    }
   ],
   "source": [
    "df2"
   ]
  }
 ],
 "metadata": {
  "kernelspec": {
   "display_name": "Python 3 (ipykernel)",
   "language": "python",
   "name": "python3"
  },
  "language_info": {
   "codemirror_mode": {
    "name": "ipython",
    "version": 3
   },
   "file_extension": ".py",
   "mimetype": "text/x-python",
   "name": "python",
   "nbconvert_exporter": "python",
   "pygments_lexer": "ipython3",
   "version": "3.11.5"
  }
 },
 "nbformat": 4,
 "nbformat_minor": 5
}
