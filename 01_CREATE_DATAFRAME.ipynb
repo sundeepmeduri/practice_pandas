{
 "cells": [
  {
   "cell_type": "code",
   "execution_count": 1,
   "id": "c847b69a-1abe-4315-89fa-a3a9b3cc27c2",
   "metadata": {},
   "outputs": [
    {
     "name": "stdout",
     "output_type": "stream",
     "text": [
      "      Name  Age         City\n",
      "0    Alice   25     New York\n",
      "1      Bob   30  Los Angeles\n",
      "2  Charlie   35      Chicago\n",
      "3    David   40      Houston\n",
      "\n",
      "--------------------------------------\n",
      "      Name  Age         City\n",
      "0    Alice   25     New York\n",
      "1      Bob   30  Los Angeles\n",
      "2  Charlie   35      Chicago\n",
      "3    David   40      Houston\n",
      "\n",
      " -------------------------------------\n",
      "      Name  Age         City\n",
      "0    Alice   25     New York\n",
      "1      Bob   30  Los Angeles\n",
      "2  Charlie   35      Chicago\n",
      "3    David   40      Houston\n"
     ]
    }
   ],
   "source": [
    "import pandas as pd\n",
    "\n",
    "# 01 create from dict\n",
    "data = {'Name': ['Alice', 'Bob', 'Charlie', 'David'],\n",
    "        'Age': [25, 30, 35, 40],\n",
    "        'City': ['New York', 'Los Angeles', 'Chicago', 'Houston']}\n",
    "\n",
    "df = pd.DataFrame(data)\n",
    "print(df)\n",
    "\n",
    "# 02 create from list of tuples\n",
    "data2 = [('Alice', 25, 'New York'),\n",
    "        ('Bob', 30, 'Los Angeles'),\n",
    "        ('Charlie', 35, 'Chicago'),\n",
    "        ('David', 40, 'Houston')]\n",
    "\n",
    "df2 = pd.DataFrame(data2, columns=['Name', 'Age', 'City'])\n",
    "print('\\n--------------------------------------')\n",
    "print(df2)\n",
    "\n",
    "# 03 create from list of dicts\n",
    "data3 = [{'Name': 'Alice', 'Age': 25, 'City': 'New York'},\n",
    "        {'Name': 'Bob', 'Age': 30, 'City': 'Los Angeles'},\n",
    "        {'Name': 'Charlie', 'Age': 35, 'City': 'Chicago'},\n",
    "        {'Name': 'David', 'Age': 40, 'City': 'Houston'}]\n",
    "\n",
    "df3 = pd.DataFrame(data3)\n",
    "print('\\n -------------------------------------')\n",
    "print(df3)\n",
    "\n",
    "df.to_csv('FILES\\create_df.csv', index=False)"
   ]
  },
  {
   "cell_type": "code",
   "execution_count": null,
   "id": "64eee384-a061-477e-baee-91552e639856",
   "metadata": {},
   "outputs": [],
   "source": []
  }
 ],
 "metadata": {
  "kernelspec": {
   "display_name": "Python 3 (ipykernel)",
   "language": "python",
   "name": "python3"
  },
  "language_info": {
   "codemirror_mode": {
    "name": "ipython",
    "version": 3
   },
   "file_extension": ".py",
   "mimetype": "text/x-python",
   "name": "python",
   "nbconvert_exporter": "python",
   "pygments_lexer": "ipython3",
   "version": "3.11.5"
  }
 },
 "nbformat": 4,
 "nbformat_minor": 5
}
